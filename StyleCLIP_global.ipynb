{
  "nbformat": 4,
  "nbformat_minor": 0,
  "metadata": {
    "colab": {
      "name": "StyleCLIP_global",
      "provenance": [],
      "collapsed_sections": [],
      "include_colab_link": true
    },
    "kernelspec": {
      "name": "python3",
      "display_name": "Python 3"
    },
    "language_info": {
      "name": "python"
    },
    "accelerator": "GPU"
  },
  "cells": [
    {
      "cell_type": "markdown",
      "metadata": {
        "id": "view-in-github",
        "colab_type": "text"
      },
      "source": [
        "<a href=\"https://colab.research.google.com/github/cedro3/StyleCLIP/blob/main/StyleCLIP_global.ipynb\" target=\"_parent\"><img src=\"https://colab.research.google.com/assets/colab-badge.svg\" alt=\"Open In Colab\"/></a>"
      ]
    },
    {
      "cell_type": "markdown",
      "metadata": {
        "id": "QQrOZXTwRyp_"
      },
      "source": [
        "# セットアップ"
      ]
    },
    {
      "cell_type": "code",
      "metadata": {
        "id": "5hlml6ebZ9xa"
      },
      "source": [
        "%tensorflow_version 1.x\n",
        "! pip install torch==1.7.1+cu110 torchvision==0.8.2+cu110 torchaudio==0.7.2 -f https://download.pytorch.org/whl/torch_stable.html\n",
        "! pip install ftfy regex tqdm\n",
        "! pip install git+https://github.com/openai/CLIP.git\n",
        "! git clone https://github.com/cedro3/StyleCLIP.git"
      ],
      "execution_count": null,
      "outputs": []
    },
    {
      "cell_type": "code",
      "metadata": {
        "id": "u-iOvy3QGXL0"
      },
      "source": [
        "# input dataset name \n",
        "dataset_name='ffhq' # input dataset name, currently, only support ffhq\n",
        "\n",
        "% cd StyleCLIP/global/\n",
        "\n",
        "# input prepare data \n",
        "!python GetCode.py --dataset_name $dataset_name --code_type 'w'\n",
        "!python GetCode.py --dataset_name $dataset_name --code_type 's'\n",
        "!python GetCode.py --dataset_name $dataset_name --code_type 's_mean_std'\n",
        "\n",
        "import tensorflow as tf\n",
        "import numpy as np \n",
        "import torch\n",
        "import clip\n",
        "from PIL import Image\n",
        "import pickle\n",
        "import copy\n",
        "import matplotlib.pyplot as plt\n",
        "from MapTS import GetFs,GetBoundary,GetDt\n",
        "from manipulate import Manipulator\n",
        "device = \"cuda\" if torch.cuda.is_available() else \"cpu\"\n",
        "model, preprocess = clip.load(\"ViT-B/32\", device=device)\n",
        "\n",
        "M=Manipulator(dataset_name='ffhq')\n",
        "fs3=np.load('./npy/ffhq/fs3.npy')\n",
        "np.set_printoptions(suppress=True)"
      ],
      "execution_count": null,
      "outputs": []
    },
    {
      "cell_type": "markdown",
      "metadata": {
        "id": "AY11L5VJR4Ww"
      },
      "source": [
        "# 画像編集"
      ]
    },
    {
      "cell_type": "code",
      "metadata": {
        "id": "-fhnU7Lnq2Tj"
      },
      "source": [
        "# --- 画像の選択 ---\n",
        "\n",
        "pt_folder = 'vec/'\n",
        "pt_name = '009.pt' #@param {type:\"string\"}\n",
        "latents=torch.load(pt_folder+pt_name)\n",
        "w_plus=latents.cpu().detach().numpy()\n",
        "M.dlatents=M.W2S(w_plus)\n",
        "\n",
        "img_indexs=[0]\n",
        "dlatent_tmp=[tmp[img_indexs] for tmp in M.dlatents]\n",
        "M.num_images=len(img_indexs)\n",
        "\n",
        "M.alpha=[0]\n",
        "M.manipulate_layers=[0]\n",
        "codes,out=M.EditOneC(0,dlatent_tmp) \n",
        "original=Image.fromarray(out[0,0]).resize((512,512))\n",
        "M.manipulate_layers=None\n",
        "original"
      ],
      "execution_count": null,
      "outputs": []
    },
    {
      "cell_type": "code",
      "metadata": {
        "id": "DxUlRCeOqn-J"
      },
      "source": [
        "# --- テキスト入力 ---\n",
        "\n",
        "neutral='face with hair' #@param {type:\"string\"}\n",
        "target='smiling face with curly hair' #@param {type:\"string\"}\n",
        "classnames=[target,neutral]\n",
        "dt=GetDt(classnames,model)"
      ],
      "execution_count": null,
      "outputs": []
    },
    {
      "cell_type": "code",
      "metadata": {
        "id": "QfL0qLWqXEiy"
      },
      "source": [
        "# --- alpha & beta の設定 ---\n",
        "\n",
        "beta = 0.1 #@param {type:\"slider\", min:0.08, max:0.3, step:0.01}\n",
        "alpha = 2.5 #@param {type:\"slider\", min:-10, max:10, step:0.1}\n",
        "M.alpha=[alpha]\n",
        "boundary_tmp2,c=GetBoundary(fs3,dt,M,threshold=beta)\n",
        "codes=M.MSCode(dlatent_tmp,boundary_tmp2)\n",
        "out=M.GenerateImg(codes)\n",
        "generated=Image.fromarray(out[0,0])#.resize((512,512))\n",
        "\n",
        "plt.figure(figsize=(14,7), dpi= 100)\n",
        "plt.subplot(1,2,1)\n",
        "plt.imshow(original)\n",
        "plt.title('original')\n",
        "plt.axis('off')\n",
        "plt.subplot(1,2,2)\n",
        "plt.imshow(generated)\n",
        "plt.title('manipulated')\n",
        "plt.axis('off')"
      ],
      "execution_count": null,
      "outputs": []
    },
    {
      "cell_type": "code",
      "metadata": {
        "id": "DEohtt8iEqAi"
      },
      "source": [
        "# --- 編集画像の連続生成 ---\n",
        "\n",
        "max_alpha = 2.5 #@param {type:\"slider\", min:0, max:10, step:0.1}\n",
        "num = int(max_alpha*10)\n",
        "beta = 0.1\n",
        "\n",
        "from tqdm import trange\n",
        "import os\n",
        "import shutil\n",
        "\n",
        "# pic フォルダーリセット\n",
        "if os.path.isdir('pic'):\n",
        "     shutil.rmtree('pic')\n",
        "os.makedirs('pic', exist_ok=True)\n",
        "\n",
        "# 画像生成関数\n",
        "def generate_img(alpha, cnt):\n",
        "     M.alpha=[alpha]\n",
        "     boundary_tmp2,c=GetBoundary(fs3,dt,M,threshold=beta)\n",
        "     codes=M.MSCode(dlatent_tmp,boundary_tmp2)\n",
        "     out=M.GenerateImg(codes)\n",
        "     pic = Image.fromarray(out[0,0])\n",
        "     pic = pic.resize((512,512))  \n",
        "\n",
        "     # orjinal と連結\n",
        "     dst = Image.new('RGB', (original.width + pic.width, original.height))\n",
        "     dst.paste(original, (0,0))\n",
        "     dst.paste(pic, (original.width, 0))\n",
        "\n",
        "     dst.save('./pic/'+str(cnt).zfill(6)+'.png')   \n",
        "\n",
        "# alpha を変化させて画像生成\n",
        "cnt = 0\n",
        "for i in trange(15, desc='alpha = 0'):\n",
        "     generate_img(0, cnt)\n",
        "     cnt +=1\n",
        "\n",
        "for i in trange(0, num, 1, desc='alpha = 0 -> max'):\n",
        "     generate_img(i/10, cnt)\n",
        "     cnt +=1\n",
        "\n",
        "for i in trange(60, desc='alpha = max'):\n",
        "     generate_img(num/10, cnt)\n",
        "     cnt +=1\n",
        "     "
      ],
      "execution_count": null,
      "outputs": []
    },
    {
      "cell_type": "code",
      "metadata": {
        "id": "CKYEVW4PJXWk"
      },
      "source": [
        "# --- mp4動画の作成 ---\n",
        "\n",
        "# 既に output.mp4 があれば削除する\n",
        "import os\n",
        "if os.path.exists('./output.mp4'):\n",
        "   os.remove('./output.mp4')\n",
        "\n",
        "# pic フォルダの画像から動画を生成\n",
        "! ffmpeg -r 30 -i pic/%6d.png\\\n",
        "               -vcodec libx264 -pix_fmt yuv420p output.mp4\n",
        "\n",
        "# movieフォルダへ名前を付けてコピー\n",
        "import shutil\n",
        "os.makedirs('movie', exist_ok=True)\n",
        "shutil.copy('output.mp4', 'movie/'+target+'_'+pt_name[:-3]+'.mp4')"
      ],
      "execution_count": null,
      "outputs": []
    },
    {
      "cell_type": "code",
      "metadata": {
        "id": "9caPRkYaFCiJ"
      },
      "source": [
        "# --- mp4動画の再生 ---\n",
        "\n",
        "from IPython.display import HTML\n",
        "from base64 import b64encode\n",
        "\n",
        "mp4 = open('./output.mp4', 'rb').read()\n",
        "data_url = 'data:video/mp4;base64,' + b64encode(mp4).decode()\n",
        "HTML(f\"\"\"\n",
        "<video width=\"70%\" height=\"70%\" controls>\n",
        "      <source src=\"{data_url}\" type=\"video/mp4\">\n",
        "</video>\"\"\")"
      ],
      "execution_count": null,
      "outputs": []
    }
  ]
}